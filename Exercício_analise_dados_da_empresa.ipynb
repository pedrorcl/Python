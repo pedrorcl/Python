{
  "nbformat": 4,
  "nbformat_minor": 0,
  "metadata": {
    "colab": {
      "name": "Exercício_analise_dados_da_empresa.ipynb",
      "provenance": [],
      "collapsed_sections": [],
      "toc_visible": true,
      "authorship_tag": "ABX9TyMFarTrgi8Hc22Ecyb0y3JA",
      "include_colab_link": true
    },
    "kernelspec": {
      "name": "python3",
      "display_name": "Python 3"
    }
  },
  "cells": [
    {
      "cell_type": "markdown",
      "metadata": {
        "id": "view-in-github",
        "colab_type": "text"
      },
      "source": [
        "<a href=\"https://colab.research.google.com/github/pedrorcl/python/blob/Analisando-dados-da-empresa/Exerc%C3%ADcio_analise_dados_da_empresa.ipynb\" target=\"_parent\"><img src=\"https://colab.research.google.com/assets/colab-badge.svg\" alt=\"Open In Colab\"/></a>"
      ]
    },
    {
      "cell_type": "markdown",
      "metadata": {
        "id": "lzGT02LrQFW2",
        "colab_type": "text"
      },
      "source": [
        "# Exercício de análise de dados da empresa com python\n",
        "Iniciar importando a biblioteca Pandas e a chamando de 'pd'."
      ]
    },
    {
      "cell_type": "code",
      "metadata": {
        "id": "hnJudruR-4G8",
        "colab_type": "code",
        "colab": {}
      },
      "source": [
        "import pandas as pd"
      ],
      "execution_count": null,
      "outputs": []
    },
    {
      "cell_type": "markdown",
      "metadata": {
        "id": "BZrPENq6QiZt",
        "colab_type": "text"
      },
      "source": [
        "Em seguida importando a planilha com a função 'read_excel()' e também atribuindo a variável 'planilha'.\n",
        "Foi acrescentado parâmetro 'None' para a leitura de todas as abas do arquivo. Sua não atribuição apresentará apenas a primeira aba."
      ]
    },
    {
      "cell_type": "code",
      "metadata": {
        "id": "6SSiljkkEFxW",
        "colab_type": "code",
        "colab": {}
      },
      "source": [
        "planilha = pd.read_excel(\"/content/controle_da_empresa.xlsx\", None)"
      ],
      "execution_count": null,
      "outputs": []
    },
    {
      "cell_type": "code",
      "metadata": {
        "id": "wFOQGT8nEfF_",
        "colab_type": "code",
        "colab": {
          "base_uri": "https://localhost:8080/",
          "height": 527
        },
        "outputId": "274a9ce7-b4d7-4b84-e9c3-12682cde7b8a"
      },
      "source": [
        "planilha"
      ],
      "execution_count": null,
      "outputs": [
        {
          "output_type": "execute_result",
          "data": {
            "text/plain": [
              "{'Estoque':    Código                 Item  ...  Unidade de Medida  Estoque Atual\n",
              " 0  SIG001     Canon 6D Mark II  ...            Unidade             13\n",
              " 1  SIG002    Canon 5D Mark III  ...            Unidade              1\n",
              " 2  SIG003     Lente 85mm f/1.4  ...            Unidade              6\n",
              " 3  SIG004     Lente 50mm f/1.4  ...            Unidade             10\n",
              " 4  SIG005  Lente 16-35mm f/2.8  ...            Unidade             11\n",
              " 5  SIG006     Filtro ND 2 Stop  ...            Unidade             20\n",
              " 6  SIG007     Filtro ND 3 Stop  ...            Unidade             21\n",
              " 7  SIG008     Filtro ND 5 Stop  ...            Unidade             18\n",
              " 8  SIG009      DJI Mavic Air 2  ...            Unidade              2\n",
              " 9  SIG010          DJI Ronin-S  ...            Unidade              1\n",
              " \n",
              " [10 rows x 7 columns], 'Funcionários':   Funcionário  Total de Vendas\n",
              " 0      Carlos           205301\n",
              " 1    Fernanda           204982\n",
              " 2        Theo           272816\n",
              " 3      Raquel           172700, 'Vendas':    Data da Venda                 Item  ...  Preço Unitário Total de Vendas\n",
              " 0     2020-01-02     Lente 50mm f/1.4  ...            1649            3298\n",
              " 1     2020-01-02     Filtro ND 5 Stop  ...            1220            2440\n",
              " 2     2020-01-03     Filtro ND 5 Stop  ...            1220            2440\n",
              " 3     2020-01-03  Lente 16-35mm f/2.8  ...            8997           17994\n",
              " 4     2020-01-04  Lente 16-35mm f/2.8  ...            8997           17994\n",
              " ..           ...                  ...  ...             ...             ...\n",
              " 85    2020-01-29     Filtro ND 5 Stop  ...            1220            2440\n",
              " 86    2020-01-29  Lente 16-35mm f/2.8  ...            8997           17994\n",
              " 87    2020-01-29     Filtro ND 2 Stop  ...            1220            1220\n",
              " 88    2020-01-30     Filtro ND 3 Stop  ...            1220            2440\n",
              " 89    2020-01-30     Filtro ND 5 Stop  ...            1220            2440\n",
              " \n",
              " [90 rows x 6 columns]}"
            ]
          },
          "metadata": {
            "tags": []
          },
          "execution_count": 15
        }
      ]
    },
    {
      "cell_type": "markdown",
      "metadata": {
        "id": "58UwE2YYSCEb",
        "colab_type": "text"
      },
      "source": [
        "Agora selecionando apenas a aba 'Vendas':"
      ]
    },
    {
      "cell_type": "code",
      "metadata": {
        "id": "pdd_tFaYEqMh",
        "colab_type": "code",
        "colab": {
          "base_uri": "https://localhost:8080/",
          "height": 419
        },
        "outputId": "d358a37a-47b7-477c-a5b9-923174245788"
      },
      "source": [
        "planilha[\"Vendas\"]"
      ],
      "execution_count": null,
      "outputs": [
        {
          "output_type": "execute_result",
          "data": {
            "text/html": [
              "<div>\n",
              "<style scoped>\n",
              "    .dataframe tbody tr th:only-of-type {\n",
              "        vertical-align: middle;\n",
              "    }\n",
              "\n",
              "    .dataframe tbody tr th {\n",
              "        vertical-align: top;\n",
              "    }\n",
              "\n",
              "    .dataframe thead th {\n",
              "        text-align: right;\n",
              "    }\n",
              "</style>\n",
              "<table border=\"1\" class=\"dataframe\">\n",
              "  <thead>\n",
              "    <tr style=\"text-align: right;\">\n",
              "      <th></th>\n",
              "      <th>Data da Venda</th>\n",
              "      <th>Item</th>\n",
              "      <th>Quantidade</th>\n",
              "      <th>Vendedor</th>\n",
              "      <th>Preço Unitário</th>\n",
              "      <th>Total de Vendas</th>\n",
              "    </tr>\n",
              "  </thead>\n",
              "  <tbody>\n",
              "    <tr>\n",
              "      <th>0</th>\n",
              "      <td>2020-01-02</td>\n",
              "      <td>Lente 50mm f/1.4</td>\n",
              "      <td>2</td>\n",
              "      <td>Carlos</td>\n",
              "      <td>1649</td>\n",
              "      <td>3298</td>\n",
              "    </tr>\n",
              "    <tr>\n",
              "      <th>1</th>\n",
              "      <td>2020-01-02</td>\n",
              "      <td>Filtro ND 5 Stop</td>\n",
              "      <td>2</td>\n",
              "      <td>Raquel</td>\n",
              "      <td>1220</td>\n",
              "      <td>2440</td>\n",
              "    </tr>\n",
              "    <tr>\n",
              "      <th>2</th>\n",
              "      <td>2020-01-03</td>\n",
              "      <td>Filtro ND 5 Stop</td>\n",
              "      <td>2</td>\n",
              "      <td>Raquel</td>\n",
              "      <td>1220</td>\n",
              "      <td>2440</td>\n",
              "    </tr>\n",
              "    <tr>\n",
              "      <th>3</th>\n",
              "      <td>2020-01-03</td>\n",
              "      <td>Lente 16-35mm f/2.8</td>\n",
              "      <td>2</td>\n",
              "      <td>Carlos</td>\n",
              "      <td>8997</td>\n",
              "      <td>17994</td>\n",
              "    </tr>\n",
              "    <tr>\n",
              "      <th>4</th>\n",
              "      <td>2020-01-04</td>\n",
              "      <td>Lente 16-35mm f/2.8</td>\n",
              "      <td>2</td>\n",
              "      <td>Fernanda</td>\n",
              "      <td>8997</td>\n",
              "      <td>17994</td>\n",
              "    </tr>\n",
              "    <tr>\n",
              "      <th>...</th>\n",
              "      <td>...</td>\n",
              "      <td>...</td>\n",
              "      <td>...</td>\n",
              "      <td>...</td>\n",
              "      <td>...</td>\n",
              "      <td>...</td>\n",
              "    </tr>\n",
              "    <tr>\n",
              "      <th>85</th>\n",
              "      <td>2020-01-29</td>\n",
              "      <td>Filtro ND 5 Stop</td>\n",
              "      <td>2</td>\n",
              "      <td>Theo</td>\n",
              "      <td>1220</td>\n",
              "      <td>2440</td>\n",
              "    </tr>\n",
              "    <tr>\n",
              "      <th>86</th>\n",
              "      <td>2020-01-29</td>\n",
              "      <td>Lente 16-35mm f/2.8</td>\n",
              "      <td>2</td>\n",
              "      <td>Theo</td>\n",
              "      <td>8997</td>\n",
              "      <td>17994</td>\n",
              "    </tr>\n",
              "    <tr>\n",
              "      <th>87</th>\n",
              "      <td>2020-01-29</td>\n",
              "      <td>Filtro ND 2 Stop</td>\n",
              "      <td>1</td>\n",
              "      <td>Fernanda</td>\n",
              "      <td>1220</td>\n",
              "      <td>1220</td>\n",
              "    </tr>\n",
              "    <tr>\n",
              "      <th>88</th>\n",
              "      <td>2020-01-30</td>\n",
              "      <td>Filtro ND 3 Stop</td>\n",
              "      <td>2</td>\n",
              "      <td>Fernanda</td>\n",
              "      <td>1220</td>\n",
              "      <td>2440</td>\n",
              "    </tr>\n",
              "    <tr>\n",
              "      <th>89</th>\n",
              "      <td>2020-01-30</td>\n",
              "      <td>Filtro ND 5 Stop</td>\n",
              "      <td>2</td>\n",
              "      <td>Raquel</td>\n",
              "      <td>1220</td>\n",
              "      <td>2440</td>\n",
              "    </tr>\n",
              "  </tbody>\n",
              "</table>\n",
              "<p>90 rows × 6 columns</p>\n",
              "</div>"
            ],
            "text/plain": [
              "   Data da Venda                 Item  ...  Preço Unitário Total de Vendas\n",
              "0     2020-01-02     Lente 50mm f/1.4  ...            1649            3298\n",
              "1     2020-01-02     Filtro ND 5 Stop  ...            1220            2440\n",
              "2     2020-01-03     Filtro ND 5 Stop  ...            1220            2440\n",
              "3     2020-01-03  Lente 16-35mm f/2.8  ...            8997           17994\n",
              "4     2020-01-04  Lente 16-35mm f/2.8  ...            8997           17994\n",
              "..           ...                  ...  ...             ...             ...\n",
              "85    2020-01-29     Filtro ND 5 Stop  ...            1220            2440\n",
              "86    2020-01-29  Lente 16-35mm f/2.8  ...            8997           17994\n",
              "87    2020-01-29     Filtro ND 2 Stop  ...            1220            1220\n",
              "88    2020-01-30     Filtro ND 3 Stop  ...            1220            2440\n",
              "89    2020-01-30     Filtro ND 5 Stop  ...            1220            2440\n",
              "\n",
              "[90 rows x 6 columns]"
            ]
          },
          "metadata": {
            "tags": []
          },
          "execution_count": 6
        }
      ]
    },
    {
      "cell_type": "markdown",
      "metadata": {
        "id": "3mre74VOSOaK",
        "colab_type": "text"
      },
      "source": [
        "Criando a variável 'vendas' com exibição da aba 'Vendas' para facilitar o trabalho:"
      ]
    },
    {
      "cell_type": "code",
      "metadata": {
        "id": "L_lj1l1yEuay",
        "colab_type": "code",
        "colab": {}
      },
      "source": [
        "vendas = planilha[\"Vendas\"]"
      ],
      "execution_count": null,
      "outputs": []
    },
    {
      "cell_type": "code",
      "metadata": {
        "id": "elCBbahHE7OY",
        "colab_type": "code",
        "colab": {
          "base_uri": "https://localhost:8080/",
          "height": 419
        },
        "outputId": "25f754d6-9712-4c6b-9b45-da58893b60db"
      },
      "source": [
        "vendas"
      ],
      "execution_count": null,
      "outputs": [
        {
          "output_type": "execute_result",
          "data": {
            "text/html": [
              "<div>\n",
              "<style scoped>\n",
              "    .dataframe tbody tr th:only-of-type {\n",
              "        vertical-align: middle;\n",
              "    }\n",
              "\n",
              "    .dataframe tbody tr th {\n",
              "        vertical-align: top;\n",
              "    }\n",
              "\n",
              "    .dataframe thead th {\n",
              "        text-align: right;\n",
              "    }\n",
              "</style>\n",
              "<table border=\"1\" class=\"dataframe\">\n",
              "  <thead>\n",
              "    <tr style=\"text-align: right;\">\n",
              "      <th></th>\n",
              "      <th>Data da Venda</th>\n",
              "      <th>Item</th>\n",
              "      <th>Quantidade</th>\n",
              "      <th>Vendedor</th>\n",
              "      <th>Preço Unitário</th>\n",
              "      <th>Total de Vendas</th>\n",
              "    </tr>\n",
              "  </thead>\n",
              "  <tbody>\n",
              "    <tr>\n",
              "      <th>0</th>\n",
              "      <td>2020-01-02</td>\n",
              "      <td>Lente 50mm f/1.4</td>\n",
              "      <td>2</td>\n",
              "      <td>Carlos</td>\n",
              "      <td>1649</td>\n",
              "      <td>3298</td>\n",
              "    </tr>\n",
              "    <tr>\n",
              "      <th>1</th>\n",
              "      <td>2020-01-02</td>\n",
              "      <td>Filtro ND 5 Stop</td>\n",
              "      <td>2</td>\n",
              "      <td>Raquel</td>\n",
              "      <td>1220</td>\n",
              "      <td>2440</td>\n",
              "    </tr>\n",
              "    <tr>\n",
              "      <th>2</th>\n",
              "      <td>2020-01-03</td>\n",
              "      <td>Filtro ND 5 Stop</td>\n",
              "      <td>2</td>\n",
              "      <td>Raquel</td>\n",
              "      <td>1220</td>\n",
              "      <td>2440</td>\n",
              "    </tr>\n",
              "    <tr>\n",
              "      <th>3</th>\n",
              "      <td>2020-01-03</td>\n",
              "      <td>Lente 16-35mm f/2.8</td>\n",
              "      <td>2</td>\n",
              "      <td>Carlos</td>\n",
              "      <td>8997</td>\n",
              "      <td>17994</td>\n",
              "    </tr>\n",
              "    <tr>\n",
              "      <th>4</th>\n",
              "      <td>2020-01-04</td>\n",
              "      <td>Lente 16-35mm f/2.8</td>\n",
              "      <td>2</td>\n",
              "      <td>Fernanda</td>\n",
              "      <td>8997</td>\n",
              "      <td>17994</td>\n",
              "    </tr>\n",
              "    <tr>\n",
              "      <th>...</th>\n",
              "      <td>...</td>\n",
              "      <td>...</td>\n",
              "      <td>...</td>\n",
              "      <td>...</td>\n",
              "      <td>...</td>\n",
              "      <td>...</td>\n",
              "    </tr>\n",
              "    <tr>\n",
              "      <th>85</th>\n",
              "      <td>2020-01-29</td>\n",
              "      <td>Filtro ND 5 Stop</td>\n",
              "      <td>2</td>\n",
              "      <td>Theo</td>\n",
              "      <td>1220</td>\n",
              "      <td>2440</td>\n",
              "    </tr>\n",
              "    <tr>\n",
              "      <th>86</th>\n",
              "      <td>2020-01-29</td>\n",
              "      <td>Lente 16-35mm f/2.8</td>\n",
              "      <td>2</td>\n",
              "      <td>Theo</td>\n",
              "      <td>8997</td>\n",
              "      <td>17994</td>\n",
              "    </tr>\n",
              "    <tr>\n",
              "      <th>87</th>\n",
              "      <td>2020-01-29</td>\n",
              "      <td>Filtro ND 2 Stop</td>\n",
              "      <td>1</td>\n",
              "      <td>Fernanda</td>\n",
              "      <td>1220</td>\n",
              "      <td>1220</td>\n",
              "    </tr>\n",
              "    <tr>\n",
              "      <th>88</th>\n",
              "      <td>2020-01-30</td>\n",
              "      <td>Filtro ND 3 Stop</td>\n",
              "      <td>2</td>\n",
              "      <td>Fernanda</td>\n",
              "      <td>1220</td>\n",
              "      <td>2440</td>\n",
              "    </tr>\n",
              "    <tr>\n",
              "      <th>89</th>\n",
              "      <td>2020-01-30</td>\n",
              "      <td>Filtro ND 5 Stop</td>\n",
              "      <td>2</td>\n",
              "      <td>Raquel</td>\n",
              "      <td>1220</td>\n",
              "      <td>2440</td>\n",
              "    </tr>\n",
              "  </tbody>\n",
              "</table>\n",
              "<p>90 rows × 6 columns</p>\n",
              "</div>"
            ],
            "text/plain": [
              "   Data da Venda                 Item  ...  Preço Unitário Total de Vendas\n",
              "0     2020-01-02     Lente 50mm f/1.4  ...            1649            3298\n",
              "1     2020-01-02     Filtro ND 5 Stop  ...            1220            2440\n",
              "2     2020-01-03     Filtro ND 5 Stop  ...            1220            2440\n",
              "3     2020-01-03  Lente 16-35mm f/2.8  ...            8997           17994\n",
              "4     2020-01-04  Lente 16-35mm f/2.8  ...            8997           17994\n",
              "..           ...                  ...  ...             ...             ...\n",
              "85    2020-01-29     Filtro ND 5 Stop  ...            1220            2440\n",
              "86    2020-01-29  Lente 16-35mm f/2.8  ...            8997           17994\n",
              "87    2020-01-29     Filtro ND 2 Stop  ...            1220            1220\n",
              "88    2020-01-30     Filtro ND 3 Stop  ...            1220            2440\n",
              "89    2020-01-30     Filtro ND 5 Stop  ...            1220            2440\n",
              "\n",
              "[90 rows x 6 columns]"
            ]
          },
          "metadata": {
            "tags": []
          },
          "execution_count": 11
        }
      ]
    },
    {
      "cell_type": "markdown",
      "metadata": {
        "id": "wiSSO9kASaXA",
        "colab_type": "text"
      },
      "source": [
        "Agora selecionando a coluna 'Total de Vendas' na aba 'Vendas':"
      ]
    },
    {
      "cell_type": "code",
      "metadata": {
        "id": "_JiPTYCgF2Sj",
        "colab_type": "code",
        "colab": {
          "base_uri": "https://localhost:8080/",
          "height": 221
        },
        "outputId": "54a63b5d-59ed-4270-c8fd-4f37e4a23264"
      },
      "source": [
        "vendas[\"Total de Vendas\"]"
      ],
      "execution_count": null,
      "outputs": [
        {
          "output_type": "execute_result",
          "data": {
            "text/plain": [
              "0      3298\n",
              "1      2440\n",
              "2      2440\n",
              "3     17994\n",
              "4     17994\n",
              "      ...  \n",
              "85     2440\n",
              "86    17994\n",
              "87     1220\n",
              "88     2440\n",
              "89     2440\n",
              "Name: Total de Vendas, Length: 90, dtype: int64"
            ]
          },
          "metadata": {
            "tags": []
          },
          "execution_count": 12
        }
      ]
    },
    {
      "cell_type": "markdown",
      "metadata": {
        "id": "3hgw-BqwSmRI",
        "colab_type": "text"
      },
      "source": [
        "Exercitando funções. Primeiro testando a função de soma 'sum()' e em seguida plotando um gráfico de linhas com a função 'plot()':"
      ]
    },
    {
      "cell_type": "code",
      "metadata": {
        "id": "cvMSrmxCGWVM",
        "colab_type": "code",
        "colab": {
          "base_uri": "https://localhost:8080/",
          "height": 34
        },
        "outputId": "37ef2364-82fe-485b-b32c-d768d60561b3"
      },
      "source": [
        "vendas[\"Total de Vendas\"].sum()"
      ],
      "execution_count": null,
      "outputs": [
        {
          "output_type": "execute_result",
          "data": {
            "text/plain": [
              "855799"
            ]
          },
          "metadata": {
            "tags": []
          },
          "execution_count": 13
        }
      ]
    },
    {
      "cell_type": "code",
      "metadata": {
        "id": "Q1OaMopDGeHy",
        "colab_type": "code",
        "colab": {
          "base_uri": "https://localhost:8080/",
          "height": 285
        },
        "outputId": "875a7a97-5a33-475c-f977-8b7b4712c995"
      },
      "source": [
        "vendas.plot(\"Data da Venda\", \"Total de Vendas\");"
      ],
      "execution_count": null,
      "outputs": [
        {
          "output_type": "display_data",
          "data": {
            "image/png": "[encoded data removed]",
            "text/plain": [
              "<Figure size 432x288 with 1 Axes>"
            ]
          },
          "metadata": {
            "tags": [],
            "needs_background": "light"
          }
        }
      ]
    },
    {
      "cell_type": "code",
      "metadata": {
        "id": "hsVphg7CGpG2",
        "colab_type": "code",
        "colab": {}
      },
      "source": [
        ""
      ],
      "execution_count": null,
      "outputs": []
    }
  ]
}